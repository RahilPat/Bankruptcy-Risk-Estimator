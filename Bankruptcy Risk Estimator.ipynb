{
 "cells": [
  {
   "cell_type": "markdown",
   "id": "1f77f1a0",
   "metadata": {},
   "source": [
    "\n",
    "# Bankruptcy Risk Estimator \n",
    "\n",
    "## Rahi Patel\n",
    "\n",
    "In this project, I used python to estimate the chance of bankruptcy from qualitative parameters by experts. I built a Naive Bayes machine learning model, split the dataset into training and testing set, trained the model on the training set, and made predictions of the 'Class' for test set, and evaluated the model's accuracy. \n",
    "\n",
    "### Dataset Information:\n",
    "(P=Positive, A-Average, N-negative, B-Bankruptcy, NB-Non-Bankruptcy)\n",
    "\n",
    "1. Industrial Risk: {P,A,N}\n",
    "2. Management Risk: {P,A,N}\n",
    "3. Financial Flexibility: {P,A,N}\n",
    "4. Credibility: {P,A,N}\n",
    "5. Competitiveness: {P,A,N}\n",
    "6. Operating Risk: {P,A,N}\n",
    "7. Class: {B,NB}\n",
    "\n",
    "i. Industry risk (IR): \n",
    "    Government policies and International agreements, \n",
    "    Cyclicality, \n",
    "    Degree of competition,\n",
    "    The price and stability of market supply,\n",
    "    The size and growth of market demand,\n",
    "    The sensitivity to changes in macroeconomic factors,\n",
    "    Domestic and international competitive power, \n",
    "    Product Life Cycle.\n",
    "\n",
    "ii. Management risk(MR): \n",
    "    Ability and competence of management, \n",
    "    Stability of management,\n",
    "    The relationship between management/ owner, \n",
    "    Human resources management, \n",
    "    Growth process/business performance, \n",
    "    Short and long term business planning, \n",
    "    achievement and feasibility. \n",
    "\n",
    "iii. Financial Flexibility(FF): \n",
    "    Direct financing, \n",
    "    Indirect financing, \n",
    "    Other financing \n",
    "\n",
    "iv. Credibility (CR):\n",
    "    Credit history,\n",
    "    reliability of information, \n",
    "    The relationship with financial institutes.\n",
    "\n",
    "v. Competitiveness (CO):\n",
    "    Market position, \n",
    "    The level of core capacities, \n",
    "    Differentiated strategy, \n",
    "\n",
    "vi. Operating Risk (OP):\n",
    "    The stability and diversity of procurement, \n",
    "    The stability of transaction, \n",
    "    The efficiency of production, \n",
    "    The prospects for demand for product and service, \n",
    "    Sales diversification,\n",
    "    Sales price and settlement condition, \n",
    "    Collection of A/R,\n",
    "    Effectiveness of sale network.\n",
    "    \n",
    "### The dataset was acquired from:\n",
    "Dua, D. and Graff, C. (2019). UCI Machine Learning Repository [http://archive.ics.uci.edu/ml]. Irvine, CA: University of California, School of Information and Computer Science.\n"
   ]
  },
  {
   "cell_type": "code",
   "execution_count": 6,
   "id": "6c63320a",
   "metadata": {},
   "outputs": [],
   "source": [
    "import pandas as pd\n",
    "import numpy as np\n",
    "import seaborn as sns\n",
    "import matplotlib.pyplot as plt\n",
    "from sklearn.model_selection import train_test_split\n",
    "from sklearn.preprocessing import OneHotEncoder\n",
    "from sklearn.naive_bayes import GaussianNB"
   ]
  },
  {
   "cell_type": "code",
   "execution_count": 7,
   "id": "eb021f0f",
   "metadata": {},
   "outputs": [],
   "source": [
    "# load in the dataset\n",
    "df = pd.read_csv(\"dat.txt\")"
   ]
  },
  {
   "cell_type": "code",
   "execution_count": 8,
   "id": "5794b8df",
   "metadata": {},
   "outputs": [
    {
     "data": {
      "text/html": [
       "<div>\n",
       "<style scoped>\n",
       "    .dataframe tbody tr th:only-of-type {\n",
       "        vertical-align: middle;\n",
       "    }\n",
       "\n",
       "    .dataframe tbody tr th {\n",
       "        vertical-align: top;\n",
       "    }\n",
       "\n",
       "    .dataframe thead th {\n",
       "        text-align: right;\n",
       "    }\n",
       "</style>\n",
       "<table border=\"1\" class=\"dataframe\">\n",
       "  <thead>\n",
       "    <tr style=\"text-align: right;\">\n",
       "      <th></th>\n",
       "      <th>Industrial Risk</th>\n",
       "      <th>Management Risk</th>\n",
       "      <th>Financial Flexibility</th>\n",
       "      <th>Credibility</th>\n",
       "      <th>Competitiveness</th>\n",
       "      <th>Operating Risk</th>\n",
       "      <th>Class</th>\n",
       "    </tr>\n",
       "  </thead>\n",
       "  <tbody>\n",
       "    <tr>\n",
       "      <th>0</th>\n",
       "      <td>P</td>\n",
       "      <td>P</td>\n",
       "      <td>A</td>\n",
       "      <td>A</td>\n",
       "      <td>A</td>\n",
       "      <td>P</td>\n",
       "      <td>NB</td>\n",
       "    </tr>\n",
       "    <tr>\n",
       "      <th>1</th>\n",
       "      <td>N</td>\n",
       "      <td>N</td>\n",
       "      <td>A</td>\n",
       "      <td>A</td>\n",
       "      <td>A</td>\n",
       "      <td>N</td>\n",
       "      <td>NB</td>\n",
       "    </tr>\n",
       "    <tr>\n",
       "      <th>2</th>\n",
       "      <td>A</td>\n",
       "      <td>A</td>\n",
       "      <td>A</td>\n",
       "      <td>A</td>\n",
       "      <td>A</td>\n",
       "      <td>A</td>\n",
       "      <td>NB</td>\n",
       "    </tr>\n",
       "    <tr>\n",
       "      <th>3</th>\n",
       "      <td>P</td>\n",
       "      <td>P</td>\n",
       "      <td>P</td>\n",
       "      <td>P</td>\n",
       "      <td>P</td>\n",
       "      <td>P</td>\n",
       "      <td>NB</td>\n",
       "    </tr>\n",
       "    <tr>\n",
       "      <th>4</th>\n",
       "      <td>N</td>\n",
       "      <td>N</td>\n",
       "      <td>P</td>\n",
       "      <td>P</td>\n",
       "      <td>P</td>\n",
       "      <td>N</td>\n",
       "      <td>NB</td>\n",
       "    </tr>\n",
       "  </tbody>\n",
       "</table>\n",
       "</div>"
      ],
      "text/plain": [
       "  Industrial Risk Management Risk Financial Flexibility Credibility  \\\n",
       "0               P               P                     A           A   \n",
       "1               N               N                     A           A   \n",
       "2               A               A                     A           A   \n",
       "3               P               P                     P           P   \n",
       "4               N               N                     P           P   \n",
       "\n",
       "  Competitiveness Operating Risk Class  \n",
       "0               A              P    NB  \n",
       "1               A              N    NB  \n",
       "2               A              A    NB  \n",
       "3               P              P    NB  \n",
       "4               P              N    NB  "
      ]
     },
     "execution_count": 8,
     "metadata": {},
     "output_type": "execute_result"
    }
   ],
   "source": [
    "df.head()"
   ]
  },
  {
   "cell_type": "code",
   "execution_count": 9,
   "id": "e43e1dfa",
   "metadata": {},
   "outputs": [
    {
     "name": "stdout",
     "output_type": "stream",
     "text": [
      "<class 'pandas.core.frame.DataFrame'>\n",
      "RangeIndex: 250 entries, 0 to 249\n",
      "Data columns (total 7 columns):\n",
      " #   Column                 Non-Null Count  Dtype \n",
      "---  ------                 --------------  ----- \n",
      " 0   Industrial Risk        250 non-null    object\n",
      " 1   Management Risk        250 non-null    object\n",
      " 2   Financial Flexibility  250 non-null    object\n",
      " 3   Credibility            250 non-null    object\n",
      " 4   Competitiveness        250 non-null    object\n",
      " 5   Operating Risk         250 non-null    object\n",
      " 6   Class                  250 non-null    object\n",
      "dtypes: object(7)\n",
      "memory usage: 13.8+ KB\n"
     ]
    }
   ],
   "source": [
    "# check dataset information\n",
    "df.info()"
   ]
  },
  {
   "cell_type": "code",
   "execution_count": 10,
   "id": "05aa4139",
   "metadata": {},
   "outputs": [
    {
     "data": {
      "text/plain": [
       "(250, 7)"
      ]
     },
     "execution_count": 10,
     "metadata": {},
     "output_type": "execute_result"
    }
   ],
   "source": [
    "df.shape"
   ]
  },
  {
   "cell_type": "code",
   "execution_count": 11,
   "id": "54b46ba3",
   "metadata": {},
   "outputs": [
    {
     "data": {
      "text/plain": [
       "Industrial Risk          0\n",
       "Management Risk          0\n",
       "Financial Flexibility    0\n",
       "Credibility              0\n",
       "Competitiveness          0\n",
       "Operating Risk           0\n",
       "Class                    0\n",
       "dtype: int64"
      ]
     },
     "execution_count": 11,
     "metadata": {},
     "output_type": "execute_result"
    }
   ],
   "source": [
    "# Check for missing values\n",
    "df.isnull().sum()"
   ]
  },
  {
   "cell_type": "code",
   "execution_count": 12,
   "id": "88580f46",
   "metadata": {},
   "outputs": [
    {
     "data": {
      "text/plain": [
       "NB    143\n",
       "B     107\n",
       "Name: Class, dtype: int64"
      ]
     },
     "execution_count": 12,
     "metadata": {},
     "output_type": "execute_result"
    }
   ],
   "source": [
    "df.Class.value_counts()"
   ]
  },
  {
   "cell_type": "code",
   "execution_count": 13,
   "id": "8ac1db69",
   "metadata": {},
   "outputs": [
    {
     "data": {
      "text/plain": [
       "NB    143\n",
       "B     107\n",
       "Name: Class, dtype: int64"
      ]
     },
     "execution_count": 13,
     "metadata": {},
     "output_type": "execute_result"
    }
   ],
   "source": [
    "# calculate the prior probabilities of the CLass\n",
    "priors = df.Class.value_counts()\n",
    "priors"
   ]
  },
  {
   "cell_type": "code",
   "execution_count": 14,
   "id": "6e58aab4",
   "metadata": {},
   "outputs": [],
   "source": [
    "# Split the data into training set and testing set \n",
    "y = df.Class\n",
    "x = df.drop(columns = 'Class')\n",
    "x_train, x_test, y_train, y_test = train_test_split(x, y, test_size = .2, stratify = y, random_state = 2)\n",
    "train_dat = pd.concat([x_train, y_train], axis = 1)\n",
    "test_dat = pd.concat([x_test, y_test], axis = 1)"
   ]
  },
  {
   "cell_type": "code",
   "execution_count": 15,
   "id": "d651442b",
   "metadata": {},
   "outputs": [
    {
     "name": "stdout",
     "output_type": "stream",
     "text": [
      "(250, 6) (200, 7) (50, 7)\n"
     ]
    }
   ],
   "source": [
    "print(x.shape, train_dat.shape, test_dat.shape)"
   ]
  },
  {
   "cell_type": "code",
   "execution_count": 16,
   "id": "b51d112a",
   "metadata": {
    "scrolled": false
   },
   "outputs": [
    {
     "name": "stdout",
     "output_type": "stream",
     "text": [
      "    Industrial Risk Management Risk Financial Flexibility Credibility  \\\n",
      "212               P               N                     N           N   \n",
      "205               P               N                     N           N   \n",
      "208               A               A                     N           N   \n",
      "217               N               A                     N           N   \n",
      "166               N               A                     N           N   \n",
      "..              ...             ...                   ...         ...   \n",
      "161               A               N                     N           N   \n",
      "148               N               N                     N           A   \n",
      "234               N               A                     N           N   \n",
      "176               P               N                     N           N   \n",
      "232               A               N                     N           N   \n",
      "\n",
      "    Competitiveness Operating Risk Class  \n",
      "212               N              N     B  \n",
      "205               N              N     B  \n",
      "208               N              N     B  \n",
      "217               N              P     B  \n",
      "166               N              P     B  \n",
      "..              ...            ...   ...  \n",
      "161               N              N     B  \n",
      "148               N              A     B  \n",
      "234               N              N     B  \n",
      "176               N              N     B  \n",
      "232               N              N     B  \n",
      "\n",
      "[86 rows x 7 columns]\n",
      "    Industrial Risk Management Risk Financial Flexibility Credibility  \\\n",
      "142               N               P                     A           A   \n",
      "44                N               N                     P           A   \n",
      "8                 P               P                     A           P   \n",
      "65                A               A                     N           P   \n",
      "106               A               P                     N           P   \n",
      "..              ...             ...                   ...         ...   \n",
      "19                A               A                     A           P   \n",
      "130               A               A                     A           A   \n",
      "33                N               P                     A           P   \n",
      "10                P               P                     P           P   \n",
      "45                N               N                     P           P   \n",
      "\n",
      "    Competitiveness Operating Risk Class  \n",
      "142               P              N    NB  \n",
      "44                P              P    NB  \n",
      "8                 A              P    NB  \n",
      "65                P              P    NB  \n",
      "106               A              P    NB  \n",
      "..              ...            ...   ...  \n",
      "19                P              A    NB  \n",
      "130               P              A    NB  \n",
      "33                A              P    NB  \n",
      "10                A              P    NB  \n",
      "45                P              P    NB  \n",
      "\n",
      "[114 rows x 7 columns]\n"
     ]
    }
   ],
   "source": [
    "# for each class, show its subset dataset\n",
    "for cls, subset in train_dat.groupby('Class'):\n",
    "    print(subset)\n",
    "    "
   ]
  },
  {
   "cell_type": "code",
   "execution_count": 17,
   "id": "1670667b",
   "metadata": {
    "scrolled": false
   },
   "outputs": [
    {
     "data": {
      "text/plain": [
       "<AxesSubplot:xlabel='Industrial Risk', ylabel='count'>"
      ]
     },
     "execution_count": 17,
     "metadata": {},
     "output_type": "execute_result"
    },
    {
     "data": {
      "image/png": "[encoded data removed]",
      "text/plain": [
       "<Figure size 640x480 with 1 Axes>"
      ]
     },
     "metadata": {},
     "output_type": "display_data"
    }
   ],
   "source": [
    "sns.countplot(x = 'Industrial Risk', hue = \"Class\", data = df)"
   ]
  },
  {
   "cell_type": "code",
   "execution_count": 18,
   "id": "34fdd3fb",
   "metadata": {
    "scrolled": false
   },
   "outputs": [
    {
     "data": {
      "text/plain": [
       "<AxesSubplot:xlabel='Management Risk', ylabel='count'>"
      ]
     },
     "execution_count": 18,
     "metadata": {},
     "output_type": "execute_result"
    },
    {
     "data": {
      "image/png": "[encoded data removed]",
      "text/plain": [
       "<Figure size 640x480 with 1 Axes>"
      ]
     },
     "metadata": {},
     "output_type": "display_data"
    }
   ],
   "source": [
    "sns.countplot(x = 'Management Risk', hue = \"Class\", data = df)"
   ]
  },
  {
   "cell_type": "code",
   "execution_count": 19,
   "id": "fbf101fd",
   "metadata": {
    "scrolled": false
   },
   "outputs": [
    {
     "data": {
      "text/plain": [
       "<AxesSubplot:xlabel='Financial Flexibility', ylabel='count'>"
      ]
     },
     "execution_count": 19,
     "metadata": {},
     "output_type": "execute_result"
    },
    {
     "data": {
      "image/png": "[encoded data removed]",
      "text/plain": [
       "<Figure size 640x480 with 1 Axes>"
      ]
     },
     "metadata": {},
     "output_type": "display_data"
    }
   ],
   "source": [
    "sns.countplot(x = 'Financial Flexibility', hue = \"Class\", data = df)"
   ]
  },
  {
   "cell_type": "code",
   "execution_count": 20,
   "id": "96fcc843",
   "metadata": {
    "scrolled": false
   },
   "outputs": [
    {
     "data": {
      "text/plain": [
       "<AxesSubplot:xlabel='Credibility', ylabel='count'>"
      ]
     },
     "execution_count": 20,
     "metadata": {},
     "output_type": "execute_result"
    },
    {
     "data": {
      "image/png": "[encoded data removed]",
      "text/plain": [
       "<Figure size 640x480 with 1 Axes>"
      ]
     },
     "metadata": {},
     "output_type": "display_data"
    }
   ],
   "source": [
    "sns.countplot(x = 'Credibility', hue = \"Class\", data = df)"
   ]
  },
  {
   "cell_type": "markdown",
   "id": "9a4f8a49",
   "metadata": {},
   "source": [
    "We can see from the plots that firms that did not have bankruptcy (blue bars) have more of Average and Positive ratings for the attributes adn firms that did experience bankruptcy (orange bars) have more of Negative ratings for the attributes. "
   ]
  },
  {
   "cell_type": "code",
   "execution_count": 21,
   "id": "ae248e80",
   "metadata": {},
   "outputs": [],
   "source": [
    "# calculate the conditional probabilities \n",
    "cond_probs = {}\n",
    "for cls, subset in train_dat.groupby('Class'):\n",
    "    cond_probs[cls] = {}\n",
    "    for attr in subset.drop(columns = 'Class'):\n",
    "        cond_probs[cls][attr] = subset[attr].value_counts(normalize = True)"
   ]
  },
  {
   "cell_type": "code",
   "execution_count": 22,
   "id": "34e4f804",
   "metadata": {
    "scrolled": false
   },
   "outputs": [
    {
     "data": {
      "text/plain": [
       "{'B': {'Industrial Risk': N    0.453488\n",
       "  A    0.290698\n",
       "  P    0.255814\n",
       "  Name: Industrial Risk, dtype: float64,\n",
       "  'Management Risk': N    0.662791\n",
       "  A    0.232558\n",
       "  P    0.104651\n",
       "  Name: Management Risk, dtype: float64,\n",
       "  'Financial Flexibility': N    0.953488\n",
       "  A    0.046512\n",
       "  Name: Financial Flexibility, dtype: float64,\n",
       "  'Credibility': N    0.837209\n",
       "  A    0.139535\n",
       "  P    0.023256\n",
       "  Name: Credibility, dtype: float64,\n",
       "  'Competitiveness': N    0.965116\n",
       "  A    0.034884\n",
       "  Name: Competitiveness, dtype: float64,\n",
       "  'Operating Risk': N    0.604651\n",
       "  A    0.232558\n",
       "  P    0.162791\n",
       "  Name: Operating Risk, dtype: float64},\n",
       " 'NB': {'Industrial Risk': A    0.368421\n",
       "  P    0.350877\n",
       "  N    0.280702\n",
       "  Name: Industrial Risk, dtype: float64,\n",
       "  'Management Risk': P    0.342105\n",
       "  N    0.342105\n",
       "  A    0.315789\n",
       "  Name: Management Risk, dtype: float64,\n",
       "  'Financial Flexibility': A    0.491228\n",
       "  P    0.385965\n",
       "  N    0.122807\n",
       "  Name: Financial Flexibility, dtype: float64,\n",
       "  'Credibility': P    0.570175\n",
       "  A    0.377193\n",
       "  N    0.052632\n",
       "  Name: Credibility, dtype: float64,\n",
       "  'Competitiveness': P    0.640351\n",
       "  A    0.359649\n",
       "  Name: Competitiveness, dtype: float64,\n",
       "  'Operating Risk': P    0.447368\n",
       "  N    0.333333\n",
       "  A    0.219298\n",
       "  Name: Operating Risk, dtype: float64}}"
      ]
     },
     "execution_count": 22,
     "metadata": {},
     "output_type": "execute_result"
    }
   ],
   "source": [
    "cond_probs"
   ]
  },
  {
   "cell_type": "code",
   "execution_count": 23,
   "id": "af816685",
   "metadata": {
    "scrolled": false
   },
   "outputs": [
    {
     "name": "stdout",
     "output_type": "stream",
     "text": [
      "Pr(Industrial Risk=N | Class=B) = 0.45348837209302323\n",
      "Pr(Industrial Risk=A | Class=B) = 0.29069767441860467\n",
      "Pr(Industrial Risk=P | Class=B) = 0.2558139534883721\n",
      "Pr(Management Risk=N | Class=B) = 0.6627906976744186\n",
      "Pr(Management Risk=A | Class=B) = 0.23255813953488372\n",
      "Pr(Management Risk=P | Class=B) = 0.10465116279069768\n",
      "Pr(Financial Flexibility=N | Class=B) = 0.9534883720930233\n",
      "Pr(Financial Flexibility=A | Class=B) = 0.046511627906976744\n",
      "Pr(Credibility=N | Class=B) = 0.8372093023255814\n",
      "Pr(Credibility=A | Class=B) = 0.13953488372093023\n",
      "Pr(Credibility=P | Class=B) = 0.023255813953488372\n",
      "Pr(Competitiveness=N | Class=B) = 0.9651162790697675\n",
      "Pr(Competitiveness=A | Class=B) = 0.03488372093023256\n",
      "Pr(Operating Risk=N | Class=B) = 0.6046511627906976\n",
      "Pr(Operating Risk=A | Class=B) = 0.23255813953488372\n",
      "Pr(Operating Risk=P | Class=B) = 0.16279069767441862\n",
      "Pr(Industrial Risk=A | Class=NB) = 0.3684210526315789\n",
      "Pr(Industrial Risk=P | Class=NB) = 0.3508771929824561\n",
      "Pr(Industrial Risk=N | Class=NB) = 0.2807017543859649\n",
      "Pr(Management Risk=P | Class=NB) = 0.34210526315789475\n",
      "Pr(Management Risk=N | Class=NB) = 0.34210526315789475\n",
      "Pr(Management Risk=A | Class=NB) = 0.3157894736842105\n",
      "Pr(Financial Flexibility=A | Class=NB) = 0.49122807017543857\n",
      "Pr(Financial Flexibility=P | Class=NB) = 0.38596491228070173\n",
      "Pr(Financial Flexibility=N | Class=NB) = 0.12280701754385964\n",
      "Pr(Credibility=P | Class=NB) = 0.5701754385964912\n",
      "Pr(Credibility=A | Class=NB) = 0.37719298245614036\n",
      "Pr(Credibility=N | Class=NB) = 0.05263157894736842\n",
      "Pr(Competitiveness=P | Class=NB) = 0.6403508771929824\n",
      "Pr(Competitiveness=A | Class=NB) = 0.35964912280701755\n",
      "Pr(Operating Risk=P | Class=NB) = 0.4473684210526316\n",
      "Pr(Operating Risk=N | Class=NB) = 0.3333333333333333\n",
      "Pr(Operating Risk=A | Class=NB) = 0.21929824561403508\n"
     ]
    }
   ],
   "source": [
    "# show the conditional probabilities\n",
    "for cls, partition in cond_probs.items():\n",
    "    for feature, dist in partition.items():\n",
    "        for category, prob in dist.items():\n",
    "            print(f\"Pr({feature}={category} | Class={cls}) = {prob}\")"
   ]
  },
  {
   "cell_type": "markdown",
   "id": "96cca67b",
   "metadata": {},
   "source": [
    "The conditional probabilities can help us identify which attribute has large or small impact on bankruptcy status."
   ]
  },
  {
   "cell_type": "code",
   "execution_count": 24,
   "id": "1713857e",
   "metadata": {},
   "outputs": [],
   "source": [
    "# classification function/model\n",
    "## classifies test observation as bankruptcy or non-bankruptcy\n",
    "def classify(test):\n",
    "    probs = {}\n",
    "    for cls, priorp in priors.items():\n",
    "        p = priorp\n",
    "        for feature, category in test.items():\n",
    "            cond = cond_probs[cls][feature].get(category, 0)\n",
    "            p *= cond\n",
    "        probs[cls] = p\n",
    "    return max(probs, key=probs.get)"
   ]
  },
  {
   "cell_type": "code",
   "execution_count": 25,
   "id": "bca7ddc3",
   "metadata": {},
   "outputs": [],
   "source": [
    "# predict the class for the test set\n",
    "predictions = x_test.apply(classify, axis = 1)"
   ]
  },
  {
   "cell_type": "code",
   "execution_count": 26,
   "id": "218946b6",
   "metadata": {},
   "outputs": [
    {
     "name": "stdout",
     "output_type": "stream",
     "text": [
      "Accuracy is 98.00%\n"
     ]
    }
   ],
   "source": [
    "# calculate the accuracy of the model\n",
    "acc = (y_test == predictions).sum()/len(predictions)\n",
    "print('Accuracy is {:.2f}%'.format(acc*100))"
   ]
  },
  {
   "cell_type": "code",
   "execution_count": 27,
   "id": "51f7ab0d",
   "metadata": {},
   "outputs": [
    {
     "data": {
      "text/plain": [
       "182     True\n",
       "238     True\n",
       "50      True\n",
       "186     True\n",
       "218     True\n",
       "26      True\n",
       "49      True\n",
       "180     True\n",
       "110     True\n",
       "40      True\n",
       "140     True\n",
       "43      True\n",
       "163     True\n",
       "78      True\n",
       "63      True\n",
       "100     True\n",
       "183     True\n",
       "108     True\n",
       "150     True\n",
       "39      True\n",
       "190     True\n",
       "107     True\n",
       "165     True\n",
       "59      True\n",
       "206     True\n",
       "27      True\n",
       "210     True\n",
       "21      True\n",
       "243     True\n",
       "131     True\n",
       "73      True\n",
       "215    False\n",
       "62      True\n",
       "174     True\n",
       "16      True\n",
       "177     True\n",
       "233     True\n",
       "0       True\n",
       "75      True\n",
       "46      True\n",
       "92      True\n",
       "228     True\n",
       "82      True\n",
       "95      True\n",
       "94      True\n",
       "158     True\n",
       "225     True\n",
       "32      True\n",
       "192     True\n",
       "36      True\n",
       "dtype: bool"
      ]
     },
     "execution_count": 27,
     "metadata": {},
     "output_type": "execute_result"
    }
   ],
   "source": [
    "y_test == predictions"
   ]
  },
  {
   "cell_type": "markdown",
   "id": "2c722bea",
   "metadata": {},
   "source": [
    "As we can see, the model correctly predicted the class 49/50 of the test dataset. Accuracy of 98% indicates that the model performed really well."
   ]
  }
 ],
 "metadata": {
  "kernelspec": {
   "display_name": "Python 3 (ipykernel)",
   "language": "python",
   "name": "python3"
  },
  "language_info": {
   "codemirror_mode": {
    "name": "ipython",
    "version": 3
   },
   "file_extension": ".py",
   "mimetype": "text/x-python",
   "name": "python",
   "nbconvert_exporter": "python",
   "pygments_lexer": "ipython3",
   "version": "3.9.13"
  }
 },
 "nbformat": 4,
 "nbformat_minor": 5
}
